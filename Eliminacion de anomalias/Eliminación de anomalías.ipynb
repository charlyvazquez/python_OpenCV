{
 "cells": [
  {
   "cell_type": "code",
   "execution_count": 6,
   "metadata": {},
   "outputs": [],
   "source": [
    "import cv2\n",
    "import numpy as np\n"
   ]
  },
  {
   "cell_type": "code",
   "execution_count": 9,
   "metadata": {},
   "outputs": [
    {
     "name": "stdout",
     "output_type": "stream",
     "text": [
      "Error al cargar la imagen.\n"
     ]
    }
   ],
   "source": [
    "# Cargar la imagen\n",
    "image = cv2.imread('snowboarding.jpg')\n",
    "\n",
    "# Verificar si la imagen se ha cargado correctamente\n",
    "if image is None:\n",
    "    print(\"Error al cargar la imagen.\")\n",
    "else:\n",
    "    # Agregar ruido de sal y pimienta\n",
    "    noise = np.zeros_like(image)\n",
    "    cv2.randu(noise, 0, 255)\n",
    "    salt = noise > 245\n",
    "    pepper = noise < 10\n",
    "    image[salt] = 255\n",
    "    image[pepper] = 0\n",
    "\n",
    "    # Mostrar la imagen original y la imagen con ruido\n",
    "    cv2.imshow('Original', image)\n",
    "    cv2.waitKey(0)\n",
    "    cv2.destroyAllWindows()\n"
   ]
  },
  {
   "cell_type": "code",
   "execution_count": null,
   "metadata": {},
   "outputs": [],
   "source": []
  }
 ],
 "metadata": {
  "kernelspec": {
   "display_name": "Python 3",
   "language": "python",
   "name": "python3"
  },
  "language_info": {
   "codemirror_mode": {
    "name": "ipython",
    "version": 3
   },
   "file_extension": ".py",
   "mimetype": "text/x-python",
   "name": "python",
   "nbconvert_exporter": "python",
   "pygments_lexer": "ipython3",
   "version": "3.11.5"
  }
 },
 "nbformat": 4,
 "nbformat_minor": 2
}
